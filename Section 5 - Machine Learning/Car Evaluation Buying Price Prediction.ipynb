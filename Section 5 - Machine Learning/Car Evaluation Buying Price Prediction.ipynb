{
 "cells": [
  {
   "cell_type": "markdown",
   "id": "48ebabc3",
   "metadata": {},
   "source": [
    "# Predicting Buying Price for Car Evaluation\n",
    "\n",
    "- Model used - Ensemble Model"
   ]
  },
  {
   "cell_type": "code",
   "execution_count": 1,
   "id": "df02791b",
   "metadata": {},
   "outputs": [],
   "source": [
    "# Libraries used in predicting\n",
    "import pickle\n",
    "import pandas as pd"
   ]
  },
  {
   "cell_type": "markdown",
   "id": "b8c17f1d",
   "metadata": {},
   "source": [
    "### Loading of pickle files\n",
    "- Loading the following files:\n",
    "    - Model\n",
    "    - Dummy column names\n",
    "    - Label Encoder"
   ]
  },
  {
   "cell_type": "code",
   "execution_count": 2,
   "id": "a36d3d53",
   "metadata": {},
   "outputs": [
    {
     "name": "stdout",
     "output_type": "stream",
     "text": [
      " Volume in drive C has no label.\n",
      " Volume Serial Number is D2A4-C317\n",
      "\n",
      " Directory of C:\\repo\\Data-Engineer-Tech-Challenge\\Section 5 - Machine Learning\\trained_models\n",
      "\n",
      "04/02/2023  10:30 pm    <DIR>          .\n",
      "04/02/2023  10:40 pm    <DIR>          ..\n",
      "04/02/2023  10:27 pm           335,026 buying_price_model_34682.pkl\n",
      "04/02/2023  10:27 pm               499 buying_price_model_34682_dummies_columns.pkl\n",
      "04/02/2023  10:27 pm               269 buying_price_model_34682_label_encoder.pkl\n",
      "               3 File(s)        335,794 bytes\n",
      "               2 Dir(s)  73,450,123,264 bytes free\n"
     ]
    }
   ],
   "source": [
    "# Using cmd command to get file names\n",
    "! dir .\\trained_models"
   ]
  },
  {
   "cell_type": "code",
   "execution_count": 3,
   "id": "c1c76d14",
   "metadata": {},
   "outputs": [],
   "source": [
    "# Load model for prediction\n",
    "with open(\"./trained_models/buying_price_model_34682.pkl\", \"rb\") as file:\n",
    "    model = pickle.load(file)\n",
    "\n",
    "# Load dummies column name\n",
    "with open(\"./trained_models/buying_price_model_34682_dummies_columns.pkl\", \"rb\") as file:\n",
    "    dummy_cols = pickle.load(file)\n",
    "\n",
    "# Load label encoder \n",
    "with open(\"./trained_models/buying_price_model_34682_label_encoder.pkl\", \"rb\") as file:\n",
    "    encoder = pickle.load(file)\n"
   ]
  },
  {
   "cell_type": "markdown",
   "id": "6fc6893b",
   "metadata": {},
   "source": [
    "### Setting up test data\n",
    "- Maintenance = High\n",
    "- Number of doors = 4\n",
    "- Lug Boot Size = Big\n",
    "- Safety = High\n",
    "- Class Value = Good \n",
    "- Capacity is missing hence will be replace with None"
   ]
  },
  {
   "cell_type": "code",
   "execution_count": 4,
   "id": "bb8ac271",
   "metadata": {},
   "outputs": [],
   "source": [
    "test_records = [['high', '4', None, 'big', 'high', 'good']]\n",
    "\n",
    "test_df = pd.DataFrame(test_records, columns=['maint', 'doors', 'persons', 'lug_boot', 'safety', 'class'])\n",
    "test_df = pd.get_dummies(test_df, columns=['maint', 'doors', 'persons', 'lug_boot', 'safety', 'class'])\n",
    "\n",
    "missing_cols = set(dummy_cols) - set(test_df.columns)\n",
    "for c in missing_cols:\n",
    "    test_df[c] = 0\n",
    "    \n",
    "test_df = test_df[dummy_cols]\n"
   ]
  },
  {
   "cell_type": "markdown",
   "id": "18f79aa7",
   "metadata": {},
   "source": [
    "### Predicting buying price\n",
    "- Label will be encoder back to original value"
   ]
  },
  {
   "cell_type": "code",
   "execution_count": 5,
   "id": "28e4cd1c",
   "metadata": {},
   "outputs": [],
   "source": [
    "predictions = model.predict(test_df)\n",
    "predictions_labels = encoder.inverse_transform(predictions)"
   ]
  },
  {
   "cell_type": "markdown",
   "id": "4df29958",
   "metadata": {},
   "source": [
    "### Result\n",
    "- Based on model prediction the Buying Price is <b>Low</b>"
   ]
  },
  {
   "cell_type": "code",
   "execution_count": 6,
   "id": "96bf5977",
   "metadata": {},
   "outputs": [
    {
     "data": {
      "text/plain": [
       "'low'"
      ]
     },
     "execution_count": 6,
     "metadata": {},
     "output_type": "execute_result"
    }
   ],
   "source": [
    "predictions_labels[0]"
   ]
  }
 ],
 "metadata": {
  "kernelspec": {
   "display_name": "Python 3 (ipykernel)",
   "language": "python",
   "name": "python3"
  },
  "language_info": {
   "codemirror_mode": {
    "name": "ipython",
    "version": 3
   },
   "file_extension": ".py",
   "mimetype": "text/x-python",
   "name": "python",
   "nbconvert_exporter": "python",
   "pygments_lexer": "ipython3",
   "version": "3.9.1"
  }
 },
 "nbformat": 4,
 "nbformat_minor": 5
}
